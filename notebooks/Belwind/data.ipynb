{
 "cells": [
  {
   "cell_type": "code",
   "execution_count": 1,
   "metadata": {},
   "outputs": [],
   "source": [
    "%load_ext autoreload\n",
    "%autoreload 2"
   ]
  },
  {
   "cell_type": "code",
   "execution_count": 2,
   "metadata": {},
   "outputs": [],
   "source": [
    "import os\n",
    "from owi_data_2_pandas.io import API\n",
    "import datetime\n",
    "from pytz import utc\n",
    "import pandas as pd\n",
    "import matplotlib.pyplot as plt\n",
    "from matplotlib.colors import ListedColormap\n",
    "\n",
    "# Import vub Meetenet Vlaamse Banken API functions\n",
    "from vubmvbc.config import Credentials\n",
    "from vubmvbc.client import Base\n",
    "from vubmvbc.objects import Catalog, Data\n",
    "import vubmvbc.data_getter as dg\n",
    "\n",
    "from oma_tracking.oma_clustering import ModeClusterer  #pip install hdbscan --no-build-isolation --no-binary :all\n",
    "from oma_tracking.data.make_dataset import DatasetGetter"
   ]
  },
  {
   "cell_type": "code",
   "execution_count": 7,
   "metadata": {},
   "outputs": [],
   "source": [
    "user = os.getenv('API_USERNAME') \n",
    "password = os.getenv('API_PASSWORD')\n",
    "root = r\"http://10.0.0.138/api/v1/\"\n",
    "owi = API(api_root=root, username=user, password=password)"
   ]
  },
  {
   "cell_type": "code",
   "execution_count": 9,
   "metadata": {},
   "outputs": [
    {
     "data": {
      "text/plain": [
       "project                         parkwind\n",
       "locations                        [bbc01]\n",
       "datagroups    [acceleration, mpe, scada]\n",
       "Name: 3, dtype: object"
      ]
     },
     "execution_count": 9,
     "metadata": {},
     "output_type": "execute_result"
    }
   ],
   "source": [
    "owi.groups.iloc[2]"
   ]
  },
  {
   "cell_type": "code",
   "execution_count": 35,
   "metadata": {},
   "outputs": [],
   "source": [
    "start  = datetime.datetime(2014,1,1,tzinfo=utc)\n",
    "stop  = datetime.datetime(2023,7,19,tzinfo=utc)\n",
    "\n",
    "location = 'bbc01'\n",
    "name_location = 'BB_C01'\n",
    "\n",
    "dsg = DatasetGetter(start, stop, location)\n",
    "dsg.get_longterm_data()"
   ]
  },
  {
   "cell_type": "code",
   "execution_count": 11,
   "metadata": {},
   "outputs": [],
   "source": [
    "home_folder = \"../../\"\n",
    "# Data Paths\n",
    "data_file_name = '_'.join([location, start.strftime(\"%Y%m%d\"), stop.strftime(\"%Y%m%d\")])\n",
    "data_path = home_folder + \"data/bb/raw/\" + data_file_name + \".parquet\"\n",
    "dsg.save_data(data_path)"
   ]
  },
  {
   "cell_type": "code",
   "execution_count": 33,
   "metadata": {},
   "outputs": [],
   "source": [
    "def unpack_mode(data, mode = 'SS1'):\n",
    "    df = data.filter(regex='SS1')\n",
    "    mode = pd.DataFrame.from_records(df[df.columns[0]].explode().dropna().tolist(), index=df[df.columns[0]].explode().dropna().index)\n",
    "    return mode\n",
    "def get_frequencies(data, mode = 'SS1'):\n",
    "    mode = unpack_mode(data, mode)\n",
    "    frequency = mode.filter(regex='mean_frequency')\n",
    "    return frequency"
   ]
  },
  {
   "cell_type": "code",
   "execution_count": 34,
   "metadata": {},
   "outputs": [],
   "source": [
    "SS1 = get_frequencies(dsg.data, 'SS1')\n",
    "SS2 = get_frequencies(dsg.data, 'SS2')\n",
    "FA1 = get_frequencies(dsg.data, 'FA1')"
   ]
  }
 ],
 "metadata": {
  "kernelspec": {
   "display_name": "soiltwin",
   "language": "python",
   "name": "python3"
  },
  "language_info": {
   "codemirror_mode": {
    "name": "ipython",
    "version": 3
   },
   "file_extension": ".py",
   "mimetype": "text/x-python",
   "name": "python",
   "nbconvert_exporter": "python",
   "pygments_lexer": "ipython3",
   "version": "3.9.12"
  },
  "orig_nbformat": 4
 },
 "nbformat": 4,
 "nbformat_minor": 2
}
