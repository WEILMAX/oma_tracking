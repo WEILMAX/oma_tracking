{
 "cells": [
  {
   "cell_type": "code",
   "execution_count": 49,
   "metadata": {},
   "outputs": [
    {
     "name": "stdout",
     "output_type": "stream",
     "text": [
      "The autoreload extension is already loaded. To reload it, use:\n",
      "  %reload_ext autoreload\n"
     ]
    }
   ],
   "source": [
    "%load_ext autoreload\n",
    "%autoreload 2"
   ]
  },
  {
   "cell_type": "code",
   "execution_count": 50,
   "metadata": {},
   "outputs": [],
   "source": [
    "import os\n",
    "from owi_data_2_pandas.io import API\n",
    "import datetime\n",
    "from pytz import utc\n",
    "import pandas as pd\n",
    "import matplotlib.pyplot as plt\n",
    "from matplotlib.colors import ListedColormap\n",
    "import numpy as np\n",
    "import matplotlib.dates as mdates\n",
    "\n",
    "# sklearn imports\n",
    "from sklearn.model_selection import train_test_split\n",
    "\n",
    "# oma_tracking imports\n",
    "from oma_tracking.data.preprocessing import sin_cos_angle_inputs\n",
    "\n",
    "# Import vub Meetenet Vlaamse Banken API functions\n",
    "from vubmvbc.config import Credentials\n",
    "from vubmvbc.client import Base\n",
    "from vubmvbc.objects import Catalog, Data\n",
    "import vubmvbc.data_getter as dg\n",
    "\n",
    "from oma_tracking.oma_clustering import ModeClusterer  #pip install hdbscan --no-build-isolation --no-binary :all\n",
    "from oma_tracking.data.make_dataset import DatasetGetter\n",
    "from oma_tracking.data.utils import unpack_mode, get_frequencies, get_rated_data, get_parked_data, read_simulations_csv_files"
   ]
  },
  {
   "cell_type": "code",
   "execution_count": 51,
   "metadata": {},
   "outputs": [],
   "source": [
    "start  = datetime.datetime(2012,1,1,tzinfo=utc)\n",
    "stop  = datetime.datetime(2023,7,19,tzinfo=utc)\n",
    "\n",
    "location = 'bbc01'\n",
    "name_location = 'BB_C01'\n",
    "\n",
    "home_folder = \"../../\"\n",
    "data_file_name = '_'.join([location, start.strftime(\"%Y%m%d\"), stop.strftime(\"%Y%m%d\")])\n",
    "data_path = home_folder + \"data/bb/raw/\" + data_file_name + \".parquet\"\n",
    "data = pd.read_parquet(data_path)\n",
    "\n",
    "\n",
    "SS1 = get_frequencies(data, 'SS1')\n",
    "SS2 = get_frequencies(data, 'SS2')\n",
    "FA1 = get_frequencies(data, 'FA1')"
   ]
  },
  {
   "cell_type": "code",
   "execution_count": 85,
   "metadata": {},
   "outputs": [],
   "source": [
    "weather_data_path = \"../../data/nw2/mvbc_data_longterm.parquet\"\n",
    "Thorntonbank_data_path = \"../../data/nw2/Thorntonbank_data_longterm.parquet\"\n",
    "Westhinder_data_path = \"../../data/nw2/Westhinder_data_longterm.parquet\"\n",
    "\n",
    "weather_data = pd.read_parquet(weather_data_path)\n",
    "\n",
    "scada_inputs = data.filter(regex='mean')\n",
    "\n",
    "inputs = \\\n",
    "    pd.concat(\n",
    "        [\n",
    "            weather_data,\n",
    "            scada_inputs\n",
    "        ],\n",
    "        axis=1\n",
    "    )\n",
    "\n",
    "selected_columns = \\\n",
    "    [\n",
    "       'mvbc_WandelaarBuoy_10%_highest_waves',\n",
    "       'mvbc_WandelaarBuoy_Height_waves_with_period_>_10_s',\n",
    "       'mvbc_WandelaarMeasuringpile_Flow_direction_cell_3',\n",
    "       #'mvbc_WandelaarBuoy_Wave_height',\n",
    "       #'mvbc_WandelaarBuoy_Average_wave_period',\n",
    "       #'mvbc_WandelaarMeasuringpile_Tide_TAW',\n",
    "       #'mvbc_WandelaarMeasuringpile_Air_pressure',\n",
    "       #'mvbc_WandelaarMeasuringpile_Air_temperature',\n",
    "       #'mvbc_Wandelaar_Sea_water_temperature',\n",
    "       'Sea_water_temperature',\n",
    "       'Wave_height',\n",
    "       'Tide_TAW',\n",
    "       'Average_wave_period',\n",
    "       'Air_pressure',\n",
    "       'Air_temperature',\n",
    "       'mean_'+ name_location + '_rpm',\n",
    "       'mean_'+ name_location + '_yaw',\n",
    "       'mean_'+ name_location + '_pitch',\n",
    "       'mean_'+ name_location + '_power',\n",
    "       'mean_'+ name_location + '_windspeed',\n",
    "       'mean_'+ name_location + '_winddirection'\n",
    "    ]\n",
    "#inputs = inputs[selected_columns]"
   ]
  },
  {
   "cell_type": "code",
   "execution_count": 88,
   "metadata": {},
   "outputs": [
    {
     "data": {
      "text/plain": [
       "mean_BB_C01_rpm              0.989941\n",
       "mean_BB_C01_yaw              0.989939\n",
       "mean_BB_C01_pitch            0.989941\n",
       "mean_BB_C01_windspeed        0.989919\n",
       "mean_BB_C01_winddirection    0.989941\n",
       "mean_BB_C01_power            0.984614\n",
       "dtype: float64"
      ]
     },
     "execution_count": 88,
     "metadata": {},
     "output_type": "execute_result"
    }
   ],
   "source": [
    "1 - scada_inputs.isna().sum()/len(scada_inputs)"
   ]
  },
  {
   "cell_type": "code",
   "execution_count": 86,
   "metadata": {},
   "outputs": [
    {
     "data": {
      "text/plain": [
       "mvbc_WandelaarBuoy_10%_highest_waves                                    0.948774\n",
       "mvbc_WandelaarBuoy_Wave_height                                          0.948774\n",
       "mvbc_WandelaarBuoy_Average_wave_period                                  0.947462\n",
       "mvbc_WandelaarBuoy_Height_waves_with_period_>_10_s                      0.929785\n",
       "mvbc_WandelaarMeasuringpile_Sea_water_temperature                       0.519111\n",
       "mvbc_WandelaarMeasuringpile_Max_3-seconds_wind_gust_(at_10_m_height)    0.797223\n",
       "mvbc_WandelaarMeasuringpile_Average_wind_direction                      0.932549\n",
       "mvbc_WandelaarMeasuringpile_Tide_TAW                                    0.930750\n",
       "mvbc_WandelaarMeasuringpile_Air_pressure                                0.917975\n",
       "mvbc_WandelaarMeasuringpile_Flow_direction_cell_3                       0.430598\n",
       "mvbc_WandelaarBuoy_1%_wave_height                                       0.494059\n",
       "mvbc_WandelaarMeasuringpile_Average_wind_speed_(at_10_m_height)         0.797156\n",
       "mvbc_WandelaarMeasuringpile_Air_temperature                             0.637727\n",
       "mvbc_WandelaarBuoy_Sea_water_temperature                                0.274594\n",
       "mvbc_WandelaarMeasuringpile_Relative_humidity                           0.047177\n",
       "mvbc_Wandelaar_Sea_water_temperature_                                   0.794329\n",
       "Sea_water_temperature                                                   0.988802\n",
       "Tide_TAW                                                                0.995228\n",
       "Wave_height                                                             0.995232\n",
       "Average_wave_period                                                     0.995232\n",
       "Air_pressure                                                            0.994866\n",
       "Air_temperature                                                         0.952299\n",
       "mean_BB_C01_rpm                                                         0.958419\n",
       "mean_BB_C01_yaw                                                         0.958418\n",
       "mean_BB_C01_pitch                                                       0.958419\n",
       "mean_BB_C01_windspeed                                                   0.958398\n",
       "mean_BB_C01_winddirection                                               0.958419\n",
       "mean_BB_C01_power                                                       0.953262\n",
       "dtype: float64"
      ]
     },
     "execution_count": 86,
     "metadata": {},
     "output_type": "execute_result"
    }
   ],
   "source": [
    "1 - inputs.isna().sum()/len(inputs)"
   ]
  },
  {
   "cell_type": "code",
   "execution_count": 91,
   "metadata": {},
   "outputs": [
    {
     "data": {
      "text/plain": [
       "mean_frequency    1.0\n",
       "dtype: float64"
      ]
     },
     "execution_count": 91,
     "metadata": {},
     "output_type": "execute_result"
    }
   ],
   "source": [
    "1 - SS1.isna().sum()/len(SS1)"
   ]
  },
  {
   "cell_type": "code",
   "execution_count": 71,
   "metadata": {},
   "outputs": [
    {
     "name": "stdout",
     "output_type": "stream",
     "text": [
      "Fitting estimator with 14 features\n",
      "Fitting estimator with 13 features\n",
      "Fitting estimator with 12 features\n",
      "Fitting estimator with 11 features\n",
      "Fitting estimator with 10 features\n",
      "Fitting estimator with 9 features\n",
      "Fitting estimator with 8 features\n",
      "Fitting estimator with 7 features\n",
      "Fitting estimator with 6 features\n",
      "Fitting estimator with 5 features\n",
      "0.30472766210301716\n",
      "6.9872174335816675e-06\n",
      "0.002032001924523809\n",
      "0.005517353508892736\n",
      "kept columns Index(['mvbc_WandelaarBuoy_10%_highest_waves',\n",
      "       'mvbc_WandelaarBuoy_Height_waves_with_period_>_10_s',\n",
      "       'Sea_water_temperature', 'Wave_height', 'Tide_TAW',\n",
      "       'Average_wave_period', 'Air_pressure', 'Air_temperature',\n",
      "       'mean_BB_C01_rpm', 'mean_BB_C01_yaw', 'mean_BB_C01_pitch',\n",
      "       'mean_BB_C01_power', 'mean_BB_C01_windspeed',\n",
      "       'mean_BB_C01_winddirection'],\n",
      "      dtype='object')\n",
      "removed columns Index([], dtype='object')\n"
     ]
    }
   ],
   "source": [
    "### RECURSIVE FEATURE ELIMINATION (RFE) ###\n",
    "import xgboost as xgb\n",
    "from shaphypetune import BoostSearch, BoostRFE, BoostRFA, BoostBoruta\n",
    "import warnings\n",
    "warnings.filterwarnings('ignore')\n",
    "\n",
    "y = SS1.copy().dropna()\n",
    "X = inputs.copy()\n",
    "X = X[X.columns[(X.isna().sum() < len(X)/2.9)]]\n",
    "X = X.loc[y.index].dropna()\n",
    "y = y.loc[X.index]\n",
    "\n",
    "X_train, X_test, y_train, y_test = train_test_split(X, y, test_size=0.5, random_state=42)\n",
    "\n",
    "regr_xgb = xgb.XGBRegressor()\n",
    "model = BoostRFE(regr_xgb, step=1, importance_type='shap_importances',\n",
    "            train_importance=True, min_features_to_select=5, verbose=2)\n",
    "model.fit(X_train, y_train, eval_set=[(X_test, y_test)], verbose=2)\n",
    "\n",
    "from sklearn.metrics import r2_score, mean_squared_error, mean_absolute_error, mean_absolute_percentage_error\n",
    "print(r2_score(y_test, model.predict(X_test)))\n",
    "print(mean_squared_error(y_test, model.predict(X_test)))\n",
    "print(mean_absolute_error(y_test, model.predict(X_test)))\n",
    "print(mean_absolute_percentage_error(y_test, model.predict(X_test)))\n",
    "\n",
    "print('kept columns', X.columns[model.support_])\n",
    "print('removed columns', X.columns[~model.support_])"
   ]
  },
  {
   "cell_type": "markdown",
   "metadata": {},
   "source": [
    "## SS2 data selection"
   ]
  },
  {
   "cell_type": "code",
   "execution_count": 72,
   "metadata": {},
   "outputs": [],
   "source": [
    "parked_data = get_parked_data(data)\n",
    "parked_SS2 = get_frequencies(parked_data, 'SS2')\n",
    "days = parked_SS2.groupby(parked_SS2.index.date).count()[parked_SS2.groupby(parked_SS2.index.date).count() > 144*0.2].dropna().index\n",
    "parked_SS2['date'] = parked_SS2.index.date\n",
    "parked_SS2_longterm = parked_SS2[np.isin(parked_SS2['date'], days)].drop(columns=['date'])\n",
    "\n",
    "from sklearn.cluster import DBSCAN\n",
    "\n",
    "time_difference = (parked_SS2_longterm.index-parked_SS2_longterm.index[0]).total_seconds()/60\n",
    "parked_SS2_longterm['time_difference'] = time_difference\n",
    "clustering = DBSCAN(eps=60*24*14, min_samples=2).fit(parked_SS2_longterm['time_difference'].values.reshape(-1, 1) )\n",
    "parked_SS2_longterm['cluster'] = clustering.labels_\n",
    "\n",
    "big_clusters = parked_SS2_longterm.groupby('cluster').count()[parked_SS2_longterm.groupby('cluster').count()>144].dropna().index\n",
    "parked_SS2_longterm_big_clusters = parked_SS2_longterm[np.isin(parked_SS2_longterm['cluster'], big_clusters)]\n",
    "unique_vals = parked_SS2_longterm_big_clusters['cluster'].unique()\n",
    "parked_SS2_longterm_big_unique_clusters = parked_SS2_longterm_big_clusters['cluster'].replace(to_replace=unique_vals,\n",
    "           value= list(range(len(unique_vals))),\n",
    "           inplace=True)"
   ]
  },
  {
   "cell_type": "code",
   "execution_count": 78,
   "metadata": {},
   "outputs": [
    {
     "name": "stdout",
     "output_type": "stream",
     "text": [
      "Fitting estimator with 14 features\n",
      "Fitting estimator with 13 features\n",
      "Fitting estimator with 12 features\n",
      "Fitting estimator with 11 features\n",
      "Fitting estimator with 10 features\n",
      "Fitting estimator with 9 features\n",
      "Fitting estimator with 8 features\n",
      "Fitting estimator with 7 features\n",
      "Fitting estimator with 6 features\n",
      "Fitting estimator with 5 features\n",
      "0.872466010603602\n",
      "0.00010351433582788975\n",
      "0.006609062186785045\n",
      "0.0044591928460253035\n",
      "kept columns Index(['mvbc_WandelaarBuoy_Height_waves_with_period_>_10_s',\n",
      "       'Sea_water_temperature', 'Wave_height', 'Tide_TAW', 'Air_pressure',\n",
      "       'Air_temperature', 'mean_BB_C01_rpm', 'mean_BB_C01_yaw',\n",
      "       'mean_BB_C01_pitch', 'mean_BB_C01_power', 'mean_BB_C01_windspeed',\n",
      "       'mean_BB_C01_winddirection'],\n",
      "      dtype='object')\n",
      "removed columns Index(['mvbc_WandelaarBuoy_10%_highest_waves', 'Average_wave_period'], dtype='object')\n"
     ]
    }
   ],
   "source": [
    "### RECURSIVE FEATURE ELIMINATION (RFE) ###\n",
    "import xgboost as xgb\n",
    "from shaphypetune import BoostSearch, BoostRFE, BoostRFA, BoostBoruta\n",
    "import warnings\n",
    "warnings.filterwarnings('ignore')\n",
    "\n",
    "y = parked_SS2_longterm['mean_frequency'].copy().dropna()\n",
    "X = inputs.copy()\n",
    "X = X[X.columns[(X.isna().sum() < len(X)/2.9)]]\n",
    "X = X.loc[y.index].dropna()\n",
    "y = y.loc[X.index]\n",
    "\n",
    "X_train, X_test, y_train, y_test = train_test_split(X, y, test_size=0.1, random_state=42)\n",
    "\n",
    "regr_xgb = xgb.XGBRegressor()\n",
    "model = BoostRFE(regr_xgb, step=1, importance_type='shap_importances',\n",
    "            train_importance=True, min_features_to_select=5, verbose=2)\n",
    "model.fit(X_train, y_train, eval_set=[(X_test, y_test)], verbose=2)\n",
    "\n",
    "from sklearn.metrics import r2_score, mean_squared_error, mean_absolute_error, mean_absolute_percentage_error\n",
    "print(r2_score(y_test, model.predict(X_test)))\n",
    "print(mean_squared_error(y_test, model.predict(X_test)))\n",
    "print(mean_absolute_error(y_test, model.predict(X_test)))\n",
    "print(mean_absolute_percentage_error(y_test, model.predict(X_test)))\n",
    "\n",
    "print('kept columns', X.columns[model.support_])\n",
    "print('removed columns', X.columns[~model.support_])"
   ]
  },
  {
   "cell_type": "code",
   "execution_count": 95,
   "metadata": {},
   "outputs": [
    {
     "data": {
      "text/plain": [
       "0.9671835586846421"
      ]
     },
     "execution_count": 95,
     "metadata": {},
     "output_type": "execute_result"
    }
   ],
   "source": [
    "1 - len(parked_SS2_longterm)/len(inputs)"
   ]
  },
  {
   "cell_type": "code",
   "execution_count": 101,
   "metadata": {},
   "outputs": [
    {
     "data": {
      "text/plain": [
       "0.8493499608132405"
      ]
     },
     "execution_count": 101,
     "metadata": {},
     "output_type": "execute_result"
    }
   ],
   "source": [
    "len(SS1)/len(inputs)"
   ]
  },
  {
   "cell_type": "code",
   "execution_count": 100,
   "metadata": {},
   "outputs": [
    {
     "data": {
      "text/plain": [
       "0.032816441315357915"
      ]
     },
     "execution_count": 100,
     "metadata": {},
     "output_type": "execute_result"
    }
   ],
   "source": [
    "len(parked_SS2_longterm)/len(inputs)"
   ]
  },
  {
   "cell_type": "code",
   "execution_count": null,
   "metadata": {},
   "outputs": [],
   "source": []
  }
 ],
 "metadata": {
  "kernelspec": {
   "display_name": "soiltwin",
   "language": "python",
   "name": "python3"
  },
  "language_info": {
   "codemirror_mode": {
    "name": "ipython",
    "version": 3
   },
   "file_extension": ".py",
   "mimetype": "text/x-python",
   "name": "python",
   "nbconvert_exporter": "python",
   "pygments_lexer": "ipython3",
   "version": "3.9.12"
  },
  "orig_nbformat": 4
 },
 "nbformat": 4,
 "nbformat_minor": 2
}
