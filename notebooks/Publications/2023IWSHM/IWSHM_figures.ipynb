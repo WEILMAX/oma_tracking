{
 "cells": [
  {
   "cell_type": "code",
   "execution_count": 1,
   "metadata": {},
   "outputs": [],
   "source": [
    "%load_ext autoreload\n",
    "%autoreload 2"
   ]
  },
  {
   "cell_type": "code",
   "execution_count": 2,
   "metadata": {},
   "outputs": [
    {
     "name": "stderr",
     "output_type": "stream",
     "text": [
      "c:\\Users\\Max\\anaconda3\\envs\\soiltwin\\lib\\site-packages\\requests\\__init__.py:102: RequestsDependencyWarning: urllib3 (1.26.9) or chardet (5.1.0)/charset_normalizer (2.0.12) doesn't match a supported version!\n",
      "  warnings.warn(\"urllib3 ({}) or chardet ({})/charset_normalizer ({}) doesn't match a supported \"\n"
     ]
    }
   ],
   "source": [
    "import os\n",
    "from owi_data_2_pandas.io import API\n",
    "import datetime\n",
    "from pytz import utc\n",
    "import pandas as pd\n",
    "import matplotlib.pyplot as plt\n",
    "from matplotlib.colors import ListedColormap\n",
    "\n",
    "# Import vub Meetenet Vlaamse Banken API functions\n",
    "from vubmvbc.config import Credentials\n",
    "from vubmvbc.client import Base\n",
    "from vubmvbc.objects import Catalog, Data\n",
    "import vubmvbc.data_getter as dg\n",
    "\n",
    "from oma_tracking.oma_clustering import ModeClusterer"
   ]
  },
  {
   "cell_type": "code",
   "execution_count": 4,
   "metadata": {},
   "outputs": [],
   "source": [
    "location = 'nw2d01'\n",
    "name_location = 'NW2_D01'\n",
    "user = os.getenv('API_USERNAME') \n",
    "password = os.getenv('API_PASSWORD')\n",
    "root = r\"http://10.0.0.138/api/v1/\"\n",
    "owi = API(api_root=root, username=user, password=password)\n",
    "metrics_data = owi.metrics(locations=location)"
   ]
  },
  {
   "cell_type": "code",
   "execution_count": null,
   "metadata": {},
   "outputs": [],
   "source": []
  }
 ],
 "metadata": {
  "kernelspec": {
   "display_name": "soiltwin",
   "language": "python",
   "name": "python3"
  },
  "language_info": {
   "codemirror_mode": {
    "name": "ipython",
    "version": 3
   },
   "file_extension": ".py",
   "mimetype": "text/x-python",
   "name": "python",
   "nbconvert_exporter": "python",
   "pygments_lexer": "ipython3",
   "version": "3.9.12"
  },
  "orig_nbformat": 4,
  "vscode": {
   "interpreter": {
    "hash": "59700db8913d1834820c267fdc13540c1f9ab675c387b03ed985ffb4bb0979f0"
   }
  }
 },
 "nbformat": 4,
 "nbformat_minor": 2
}
