{
 "cells": [
  {
   "cell_type": "code",
   "execution_count": 1,
   "metadata": {},
   "outputs": [],
   "source": [
    "%load_ext autoreload\n",
    "%autoreload 2"
   ]
  },
  {
   "cell_type": "code",
   "execution_count": 2,
   "metadata": {},
   "outputs": [],
   "source": [
    "import lazypredict\n",
    "import pandas as pd\n",
    "import datetime\n",
    "from pytz import utc\n"
   ]
  },
  {
   "cell_type": "code",
   "execution_count": 3,
   "metadata": {},
   "outputs": [],
   "source": [
    "start =  datetime.datetime(2022,11,1,tzinfo=utc)\n",
    "stop  = datetime.datetime(2023,3,1,tzinfo=utc)\n",
    "location = 'nw2d01'\n",
    "name_location = 'NW2_D01'\n",
    "\n",
    "home_folder = \"../../\"\n",
    "# Data Paths\n",
    "data_file_name = '_'.join([location, start.strftime(\"%Y%m%d\"), stop.strftime(\"%Y%m%d\")])\n",
    "data_path = home_folder + \"data/nw2/raw/\" + data_file_name + \".parquet\"\n",
    "mvbc_path = \"../../data/nw2/mvbc_data.parquet\"\n",
    "tracked_frequencies_path = \"../../data/nw2/tracked_modes/\" + location + \".parquet\"\n",
    "simulations_data_path = \"../../data/nw2/simulations/\" + location + \"/\"\n",
    "\n",
    "# Get all the data\n",
    "data = pd.read_parquet(data_path)\n",
    "mvbc_data = pd.read_parquet(mvbc_path)\n",
    "tracked_frequencies = pd.read_parquet(tracked_frequencies_path)\n",
    "#simulation_data = read_simulations_csv_files(simulations_data_path + \"eigen_frequencies/\")\n",
    "#simulation_shifts = read_simulations_csv_files(simulations_data_path + \"mean_shifts/\")\n",
    "#simulation_errors = pd.read_csv(simulations_data_path + \"errors/Errors_No_scour.csv\", index_col=0)"
   ]
  },
  {
   "cell_type": "code",
   "execution_count": 4,
   "metadata": {},
   "outputs": [],
   "source": [
    "def get_data_subset(\n",
    "    data: pd.DataFrame,\n",
    "    list_of_parameters: list[str]\n",
    "    ) -> pd.DataFrame:\n",
    "    \"\"\"Get a subset of the data\n",
    "    for the given parameters.\"\"\"\n",
    "    return data.filter(regex='|'.join(list_of_parameters))\n",
    "\n",
    "def get_weather_subset(\n",
    "    data: pd.DataFrame,\n",
    "    weater_parameters: list[str] = \\\n",
    "        [\n",
    "            'Wave_height', \n",
    "            'Sea_water_temperature', \n",
    "            'Tide_TAW', \n",
    "            'Air_pressure', \n",
    "            'Air_temperature', \n",
    "            #'Relative_humidity' # TOO MANY NANs\n",
    "        ]\n",
    "    ) -> pd.DataFrame:\n",
    "    \"\"\"Get a subset of the weather data\n",
    "    for the given parameters.\"\"\"\n",
    "    return get_data_subset(data, weater_parameters)\n",
    "\n",
    "def get_scada_subset(\n",
    "    data: pd.DataFrame,\n",
    "    scada_parameters: list[str] = \\\n",
    "        [\n",
    "        'rpm', \n",
    "        'yaw', \n",
    "        'pitch', \n",
    "        'power', \n",
    "        #'std_NW2_D01_towerxacc',  # TOO MANY NANs\n",
    "        #'std_NW2_D01_toweryacc', # TOO MANY NANs\n",
    "        #'mean_NW2_D01_towerxacc', # TOO MANY NANs\n",
    "        #'mean_NW2_D01_toweryacc', # TOO MANY NANs\n",
    "        'windspeed',\n",
    "        'winddirection',\n",
    "        ],\n",
    "    statistics: list[str] = ['mean']\n",
    "    ) -> pd.DataFrame:\n",
    "    \"\"\"Get a subset of the SCADA data\n",
    "    for the given parameters.\"\"\"\n",
    "    means_data = get_data_subset(data, statistics)\n",
    "    return get_data_subset(means_data, scada_parameters)\n",
    "\n",
    "def get_mpe_data(\n",
    "    data:pd.DataFrame,\n",
    "    mode_direction:str,\n",
    "    name_location:str = 'NW2_D01'\n",
    "    ) -> pd.DataFrame:\n",
    "    mpe_data = data.filter(regex='mpe')\n",
    "    if mode_direction not in ['FA', 'SS']:\n",
    "        raise ValueError('mode_direction must be FA or SS')\n",
    "    mpe_direction = \\\n",
    "        pd.DataFrame.from_records(\n",
    "            mpe_data['_'.join(['mpe', name_location, mode_direction])].explode().dropna().tolist()\n",
    "        )\\\n",
    "            .set_index(\n",
    "                mpe_data['_'.join(['mpe', name_location, mode_direction])].explode().dropna().index\n",
    "            )\n",
    "    return mpe_direction\n"
   ]
  },
  {
   "cell_type": "code",
   "execution_count": 5,
   "metadata": {},
   "outputs": [],
   "source": [
    "weather_inputs = get_weather_subset(mvbc_data)\n",
    "scada_inputs = get_scada_subset(data)\n",
    "\n",
    "inputs = pd.concat([\n",
    "            weather_inputs,\n",
    "            scada_inputs\n",
    "        ],axis=1)\n",
    "\n",
    "prediction_params = tracked_frequencies "
   ]
  },
  {
   "cell_type": "code",
   "execution_count": 6,
   "metadata": {},
   "outputs": [],
   "source": [
    "mode = 'SS1'\n",
    "y = prediction_params[mode].dropna()\n",
    "X = inputs.loc[y.index].dropna()\n",
    "y = y.loc[X.index]"
   ]
  },
  {
   "cell_type": "code",
   "execution_count": 7,
   "metadata": {},
   "outputs": [],
   "source": [
    "import scipy"
   ]
  },
  {
   "cell_type": "code",
   "execution_count": 8,
   "metadata": {},
   "outputs": [
    {
     "name": "stderr",
     "output_type": "stream",
     "text": [
      "  2%|▏         | 1/42 [00:01<01:18,  1.92s/it]"
     ]
    },
    {
     "name": "stdout",
     "output_type": "stream",
     "text": [
      "{'Model': 'AdaBoostRegressor', 'R-Squared': 0.21247488362008027, 'Adjusted R-Squared': 0.2098003617676013, 'RMSE': 0.002503247249260273, 'Time taken': 1.922532558441162}\n"
     ]
    },
    {
     "name": "stderr",
     "output_type": "stream",
     "text": [
      "  5%|▍         | 2/42 [00:04<01:41,  2.55s/it]"
     ]
    },
    {
     "name": "stdout",
     "output_type": "stream",
     "text": [
      "{'Model': 'BaggingRegressor', 'R-Squared': 0.19027409756134672, 'Adjusted R-Squared': 0.18752417939931354, 'RMSE': 0.0025382860147463654, 'Time taken': 2.980142831802368}\n",
      "{'Model': 'BayesianRidge', 'R-Squared': 0.23964425243823784, 'Adjusted R-Squared': 0.2370620007484634, 'RMSE': 0.0024596876321066083, 'Time taken': 0.07480955123901367}\n"
     ]
    },
    {
     "name": "stderr",
     "output_type": "stream",
     "text": [
      " 17%|█▋        | 7/42 [00:05<00:16,  2.09it/s]"
     ]
    },
    {
     "name": "stdout",
     "output_type": "stream",
     "text": [
      "{'Model': 'DecisionTreeRegressor', 'R-Squared': -0.4636220956489632, 'Adjusted R-Squared': -0.4685927171531741, 'RMSE': 0.003412604973968617, 'Time taken': 0.21725869178771973}\n",
      "{'Model': 'DummyRegressor', 'R-Squared': -2.3207151732318465e-05, 'Adjusted R-Squared': -0.0034193958762365195, 'RMSE': 0.002820827832985447, 'Time taken': 0.011232614517211914}\n",
      "{'Model': 'ElasticNet', 'R-Squared': -2.3207151732318465e-05, 'Adjusted R-Squared': -0.0034193958762365195, 'RMSE': 0.002820827832985447, 'Time taken': 0.015764951705932617}\n",
      "{'Model': 'ElasticNetCV', 'R-Squared': 0.23951610373816634, 'Adjusted R-Squared': 0.23693341684132152, 'RMSE': 0.002459894898569539, 'Time taken': 0.1539607048034668}\n",
      "{'Model': 'ExtraTreeRegressor', 'R-Squared': -0.45741073346447725, 'Adjusted R-Squared': -0.4623602605000159, 'RMSE': 0.0034053560186445083, 'Time taken': 0.05700278282165527}\n"
     ]
    },
    {
     "name": "stderr",
     "output_type": "stream",
     "text": [
      " 21%|██▏       | 9/42 [00:11<00:47,  1.44s/it]"
     ]
    },
    {
     "name": "stdout",
     "output_type": "stream",
     "text": [
      "{'Model': 'ExtraTreesRegressor', 'R-Squared': 0.2029903346681503, 'Adjusted R-Squared': 0.20028360224497943, 'RMSE': 0.002518276048466514, 'Time taken': 6.361960411071777}\n",
      "{'Model': 'GammaRegressor', 'R-Squared': 0.0840978568687204, 'Adjusted R-Squared': 0.08098735252341505, 'RMSE': 0.002699579232082795, 'Time taken': 0.02999591827392578}\n"
     ]
    },
    {
     "name": "stderr",
     "output_type": "stream",
     "text": [
      " 26%|██▌       | 11/42 [01:06<05:13, 10.10s/it]"
     ]
    },
    {
     "name": "stdout",
     "output_type": "stream",
     "text": [
      "{'Model': 'GaussianProcessRegressor', 'R-Squared': -33.06048859477828, 'Adjusted R-Squared': -33.17616175765033, 'RMSE': 0.016462545095486603, 'Time taken': 54.49226450920105}\n"
     ]
    },
    {
     "name": "stderr",
     "output_type": "stream",
     "text": [
      " 29%|██▊       | 12/42 [01:10<04:30,  9.02s/it]"
     ]
    },
    {
     "name": "stdout",
     "output_type": "stream",
     "text": [
      "{'Model': 'GradientBoostingRegressor', 'R-Squared': 0.2816574759126246, 'Adjusted R-Squared': 0.2792179057474621, 'RMSE': 0.002390767420639533, 'Time taken': 4.499237537384033}\n"
     ]
    },
    {
     "name": "stderr",
     "output_type": "stream",
     "text": [
      " 33%|███▎      | 14/42 [01:11<02:33,  5.47s/it]"
     ]
    },
    {
     "name": "stdout",
     "output_type": "stream",
     "text": [
      "{'Model': 'HistGradientBoostingRegressor', 'R-Squared': 0.2815966239130824, 'Adjusted R-Squared': 0.27915684708784116, 'RMSE': 0.0023908686814532896, 'Time taken': 0.20273494720458984}\n",
      "{'Model': 'HuberRegressor', 'R-Squared': 0.23909549715631717, 'Adjusted R-Squared': 0.23651138183329135, 'RMSE': 0.0024605750608776965, 'Time taken': 0.13912320137023926}\n"
     ]
    },
    {
     "name": "stderr",
     "output_type": "stream",
     "text": [
      " 36%|███▌      | 15/42 [01:11<01:51,  4.14s/it]"
     ]
    },
    {
     "name": "stdout",
     "output_type": "stream",
     "text": [
      "{'Model': 'KNeighborsRegressor', 'R-Squared': 0.16674818122261825, 'Adjusted R-Squared': 0.16391836646295432, 'RMSE': 0.002574895901515569, 'Time taken': 0.19302845001220703}\n"
     ]
    },
    {
     "name": "stderr",
     "output_type": "stream",
     "text": [
      " 45%|████▌     | 19/42 [01:27<01:17,  3.38s/it]"
     ]
    },
    {
     "name": "stdout",
     "output_type": "stream",
     "text": [
      "{'Model': 'KernelRidge', 'R-Squared': -6048.928260842869, 'Adjusted R-Squared': -6069.4744821671275, 'RMSE': 0.21940506710274002, 'Time taken': 15.604030847549438}\n",
      "{'Model': 'Lars', 'R-Squared': 0.07773375328886567, 'Adjusted R-Squared': 0.07460163574832146, 'RMSE': 0.0027089419467106364, 'Time taken': 0.0178530216217041}\n",
      "{'Model': 'LarsCV', 'R-Squared': 0.18225176608760718, 'Adjusted R-Squared': 0.17947460320615105, 'RMSE': 0.0025508290145909865, 'Time taken': 0.06443929672241211}\n",
      "{'Model': 'Lasso', 'R-Squared': -2.3207151732318465e-05, 'Adjusted R-Squared': -0.0034193958762365195, 'RMSE': 0.002820827832985447, 'Time taken': 0.02093029022216797}\n"
     ]
    },
    {
     "name": "stderr",
     "output_type": "stream",
     "text": [
      " 55%|█████▍    | 23/42 [01:27<00:29,  1.55s/it]"
     ]
    },
    {
     "name": "stdout",
     "output_type": "stream",
     "text": [
      "{'Model': 'LassoCV', 'R-Squared': 0.23951644077752532, 'Adjusted R-Squared': 0.23693375502530323, 'RMSE': 0.0024598943534682584, 'Time taken': 0.1733846664428711}\n",
      "{'Model': 'LassoLars', 'R-Squared': -2.3207151732318465e-05, 'Adjusted R-Squared': -0.0034193958762365195, 'RMSE': 0.002820827832985447, 'Time taken': 0.016962528228759766}\n",
      "{'Model': 'LassoLarsCV', 'R-Squared': 0.2396625774668616, 'Adjusted R-Squared': 0.23708038801089848, 'RMSE': 0.0024596579919559363, 'Time taken': 0.06304931640625}\n",
      "{'Model': 'LassoLarsIC', 'R-Squared': 0.2396625774668616, 'Adjusted R-Squared': 0.23708038801089848, 'RMSE': 0.0024596579919559363, 'Time taken': 0.03678703308105469}\n",
      "{'Model': 'LinearRegression', 'R-Squared': 0.2396625774668616, 'Adjusted R-Squared': 0.23708038801089848, 'RMSE': 0.0024596579919559363, 'Time taken': 0.021997690200805664}\n"
     ]
    },
    {
     "name": "stderr",
     "output_type": "stream",
     "text": [
      " 60%|█████▉    | 25/42 [01:28<00:20,  1.21s/it]"
     ]
    },
    {
     "name": "stdout",
     "output_type": "stream",
     "text": [
      "{'Model': 'LinearSVR', 'R-Squared': -0.23198697066518115, 'Adjusted R-Squared': -0.23617093382582244, 'RMSE': 0.0031309389414910386, 'Time taken': 0.8871674537658691}\n",
      "{'Model': 'MLPRegressor', 'R-Squared': -84.03889119266908, 'Adjusted R-Squared': -84.32769261382357, 'RMSE': 0.026012394705562894, 'Time taken': 0.8038537502288818}\n"
     ]
    },
    {
     "name": "stderr",
     "output_type": "stream",
     "text": [
      " 64%|██████▍   | 27/42 [02:54<03:34, 14.31s/it]"
     ]
    },
    {
     "name": "stdout",
     "output_type": "stream",
     "text": [
      "{'Model': 'NuSVR', 'R-Squared': 0.21298776625185734, 'Adjusted R-Squared': 0.2103149862051671, 'RMSE': 0.0025024319856503862, 'Time taken': 85.73093223571777}\n",
      "{'Model': 'OrthogonalMatchingPursuit', 'R-Squared': 0.08952994050521401, 'Adjusted R-Squared': 0.08643788411298103, 'RMSE': 0.002691561919304539, 'Time taken': 0.01295614242553711}\n",
      "{'Model': 'OrthogonalMatchingPursuitCV', 'R-Squared': 0.22821194788462063, 'Adjusted R-Squared': 0.2255908708320522, 'RMSE': 0.0024781099209343006, 'Time taken': 0.02993154525756836}\n",
      "{'Model': 'PassiveAggressiveRegressor', 'R-Squared': -506.07457543995304, 'Adjusted R-Squared': -507.7966564309501, 'RMSE': 0.063519556725475, 'Time taken': 0.025424718856811523}\n",
      "{'Model': 'PoissonRegressor', 'R-Squared': 0.039569855526176534, 'Adjusted R-Squared': 0.03630812919421844, 'RMSE': 0.0027644225828468917, 'Time taken': 0.018133163452148438}\n"
     ]
    }
   ],
   "source": [
    "from lazypredict.Supervised import LazyRegressor\n",
    "from sklearn import datasets\n",
    "from sklearn.utils import shuffle\n",
    "import numpy as np\n",
    "from sklearn.model_selection import train_test_split\n",
    "\n",
    "mode = 'SS1'\n",
    "\n",
    "X_train, X_test, y_train, y_test = train_test_split(X, y, test_size = 0.2, random_state = 64)\n",
    "reg = LazyRegressor(verbose=1, ignore_warnings=False, custom_metric=None)\n",
    "models,pred = reg.fit(X_train, X_test, y_train, y_test)"
   ]
  },
  {
   "cell_type": "code",
   "execution_count": null,
   "metadata": {},
   "outputs": [],
   "source": [
    "models"
   ]
  },
  {
   "cell_type": "code",
   "execution_count": null,
   "metadata": {},
   "outputs": [],
   "source": []
  }
 ],
 "metadata": {
  "kernelspec": {
   "display_name": "soiltwin",
   "language": "python",
   "name": "python3"
  },
  "language_info": {
   "codemirror_mode": {
    "name": "ipython",
    "version": 3
   },
   "file_extension": ".py",
   "mimetype": "text/x-python",
   "name": "python",
   "nbconvert_exporter": "python",
   "pygments_lexer": "ipython3",
   "version": "3.11.3"
  },
  "orig_nbformat": 4
 },
 "nbformat": 4,
 "nbformat_minor": 2
}
