{
 "cells": [
  {
   "cell_type": "code",
   "execution_count": 1,
   "metadata": {},
   "outputs": [],
   "source": [
    "%load_ext autoreload\n",
    "%autoreload 2"
   ]
  },
  {
   "cell_type": "code",
   "execution_count": 9,
   "metadata": {},
   "outputs": [
    {
     "data": {
      "text/plain": [
       "True"
      ]
     },
     "execution_count": 9,
     "metadata": {},
     "output_type": "execute_result"
    }
   ],
   "source": [
    "import datetime\n",
    "import pandas as pd\n",
    "from pytz import utc\n",
    "import os\n",
    "import mlflow\n",
    "import numpy as np\n",
    "\n",
    "# mlflow imports\n",
    "from mlflow.models.signature import infer_signature\n",
    "\n",
    "# sklearn imports\n",
    "from sklearn.ensemble import RandomForestRegressor\n",
    "from sklearn.linear_model import LinearRegression\n",
    "from sklearn.pipeline import Pipeline\n",
    "from sklearn.model_selection import train_test_split\n",
    "from sklearn.preprocessing import MinMaxScaler\n",
    "from sklearn.model_selection import cross_val_score\n",
    "\n",
    "# xgboost imports\n",
    "from xgboost import XGBRegressor\n",
    "\n",
    "# oma_tracking imports\n",
    "from oma_tracking.data.utils import read_simulations_csv_files\n",
    "from oma_tracking.data import make_dataset\n",
    "from oma_tracking.data.preprocessing import AngleTransformer, sin_cos_angle_inputs\n",
    "import oma_tracking.models.mlflow_functions as mlflow_f\n",
    "\n",
    "\n",
    "from dotenv import load_dotenv\n",
    "load_dotenv()"
   ]
  },
  {
   "cell_type": "code",
   "execution_count": 3,
   "metadata": {},
   "outputs": [],
   "source": [
    "start =  datetime.datetime(2022,11,1,tzinfo=utc)\n",
    "stop  = datetime.datetime(2023,3,1,tzinfo=utc)\n",
    "location = 'nw2d01'\n",
    "name_location = 'NW2_D01'\n",
    "\n",
    "home_folder = \"../../../\"\n",
    "# Data Paths\n",
    "data_file_name = '_'.join([location, start.strftime(\"%Y%m%d\"), stop.strftime(\"%Y%m%d\")])\n",
    "data_path = home_folder + \"data/nw2/raw/\" + data_file_name + \".parquet\"\n",
    "mvbc_path = home_folder + \"data/nw2/mvbc_data.parquet\"\n",
    "tracked_frequencies_path = home_folder + \"data/nw2/tracked_modes/harmonics_removed/\" + location + \".parquet\"\n",
    "simulations_data_path = home_folder + \"data/nw2/simulations/\" + location + \"/\"\n",
    "\n",
    "# Get all the data\n",
    "data = pd.read_parquet(data_path)\n",
    "mvbc_data = pd.read_parquet(mvbc_path)\n",
    "tracked_frequencies = pd.read_parquet(tracked_frequencies_path)\n",
    "simulation_data = read_simulations_csv_files(simulations_data_path + \"eigen_frequencies/\")\n",
    "simulation_shifts = read_simulations_csv_files(simulations_data_path + \"mean_shifts/\")\n",
    "simulation_errors = pd.read_csv(simulations_data_path + \"errors/Errors_No_scour.csv\", index_col=0)"
   ]
  },
  {
   "cell_type": "code",
   "execution_count": 4,
   "metadata": {},
   "outputs": [],
   "source": [
    "weather_inputs = make_dataset.get_weather_subset(mvbc_data)\n",
    "scada_inputs = make_dataset.get_scada_subset(data)\n",
    "\n",
    "inputs = pd.concat([\n",
    "            weather_inputs,\n",
    "            scada_inputs\n",
    "        ],axis=1)\n",
    "\n",
    "prediction_params = tracked_frequencies "
   ]
  },
  {
   "cell_type": "code",
   "execution_count": 11,
   "metadata": {},
   "outputs": [],
   "source": [
    "# hyperopt imports\n",
    "from hyperopt import hp,fmin,tpe,STATUS_OK,Trials\n",
    "\n",
    "hyperopt_folder = \"../../../data/nw2/model_hyperopt/removed_harmonics/\" + location + \"_\""
   ]
  },
  {
   "cell_type": "code",
   "execution_count": 10,
   "metadata": {},
   "outputs": [
    {
     "name": "stdout",
     "output_type": "stream",
     "text": [
      "100%|██████████| 200/200 [27:40<00:00,  8.30s/trial, best loss: -0.28386145886738084]\n",
      "{'colsample_bytree': 0.8304655908264129, 'learning_rate': 0.10967314467145307, 'max_depth': 3.0, 'n_estimators': 144.0}\n",
      "100%|██████████| 200/200 [14:49<00:00,  4.45s/trial, best loss: -0.6765819937078483]\n",
      "{'colsample_bytree': 0.6814844732712775, 'learning_rate': 0.029332031839881534, 'max_depth': 5.0, 'n_estimators': 436.0}\n",
      "100%|██████████| 200/200 [33:11<00:00,  9.96s/trial, best loss: -0.3597042542891683]\n",
      "{'colsample_bytree': 0.33876447960126577, 'learning_rate': 0.02016761225642566, 'max_depth': 10.0, 'n_estimators': 497.0}\n",
      "100%|██████████| 200/200 [08:59<00:00,  2.70s/trial, best loss: -0.5467622020134109]\n",
      "{'colsample_bytree': 0.557090108708905, 'learning_rate': 0.06489736432455834, 'max_depth': 4.0, 'n_estimators': 228.0}\n"
     ]
    },
    {
     "ename": "OSError",
     "evalue": "Cannot save file into a non-existent directory: '..\\..\\data\\nw2\\model_hyperopt\\removed_harmonics'",
     "output_type": "error",
     "traceback": [
      "\u001b[1;31m---------------------------------------------------------------------------\u001b[0m",
      "\u001b[1;31mOSError\u001b[0m                                   Traceback (most recent call last)",
      "\u001b[1;32mc:\\Users\\Max\\Documents\\OWI_LAB\\Code\\Packages\\oma_tracking\\notebooks\\normalization\\removed_harmonics\\nw2_d01_hyperopt.ipynb Cell 6\u001b[0m in \u001b[0;36m<cell line: 46>\u001b[1;34m()\u001b[0m\n\u001b[0;32m     <a href='vscode-notebook-cell:/c%3A/Users/Max/Documents/OWI_LAB/Code/Packages/oma_tracking/notebooks/normalization/removed_harmonics/nw2_d01_hyperopt.ipynb#W5sZmlsZQ%3D%3D?line=43'>44</a>\u001b[0m     XGB_optimizations[mode]\u001b[39m=\u001b[39moptimize_xgb(trial2)\n\u001b[0;32m     <a href='vscode-notebook-cell:/c%3A/Users/Max/Documents/OWI_LAB/Code/Packages/oma_tracking/notebooks/normalization/removed_harmonics/nw2_d01_hyperopt.ipynb#W5sZmlsZQ%3D%3D?line=44'>45</a>\u001b[0m     \u001b[39mprint\u001b[39m(XGB_optimizations[mode])\n\u001b[1;32m---> <a href='vscode-notebook-cell:/c%3A/Users/Max/Documents/OWI_LAB/Code/Packages/oma_tracking/notebooks/normalization/removed_harmonics/nw2_d01_hyperopt.ipynb#W5sZmlsZQ%3D%3D?line=45'>46</a>\u001b[0m pd\u001b[39m.\u001b[39;49mDataFrame(XGB_optimizations)\u001b[39m.\u001b[39;49mto_csv(hyperopt_folder \u001b[39m+\u001b[39;49m \u001b[39m\"\u001b[39;49m\u001b[39mxgb_optimizations.csv\u001b[39;49m\u001b[39m\"\u001b[39;49m)\n",
      "File \u001b[1;32mc:\\Users\\Max\\anaconda3\\envs\\soiltwin\\lib\\site-packages\\pandas\\core\\generic.py:3551\u001b[0m, in \u001b[0;36mNDFrame.to_csv\u001b[1;34m(self, path_or_buf, sep, na_rep, float_format, columns, header, index, index_label, mode, encoding, compression, quoting, quotechar, line_terminator, chunksize, date_format, doublequote, escapechar, decimal, errors, storage_options)\u001b[0m\n\u001b[0;32m   3540\u001b[0m df \u001b[39m=\u001b[39m \u001b[39mself\u001b[39m \u001b[39mif\u001b[39;00m \u001b[39misinstance\u001b[39m(\u001b[39mself\u001b[39m, ABCDataFrame) \u001b[39melse\u001b[39;00m \u001b[39mself\u001b[39m\u001b[39m.\u001b[39mto_frame()\n\u001b[0;32m   3542\u001b[0m formatter \u001b[39m=\u001b[39m DataFrameFormatter(\n\u001b[0;32m   3543\u001b[0m     frame\u001b[39m=\u001b[39mdf,\n\u001b[0;32m   3544\u001b[0m     header\u001b[39m=\u001b[39mheader,\n\u001b[1;32m   (...)\u001b[0m\n\u001b[0;32m   3548\u001b[0m     decimal\u001b[39m=\u001b[39mdecimal,\n\u001b[0;32m   3549\u001b[0m )\n\u001b[1;32m-> 3551\u001b[0m \u001b[39mreturn\u001b[39;00m DataFrameRenderer(formatter)\u001b[39m.\u001b[39;49mto_csv(\n\u001b[0;32m   3552\u001b[0m     path_or_buf,\n\u001b[0;32m   3553\u001b[0m     line_terminator\u001b[39m=\u001b[39;49mline_terminator,\n\u001b[0;32m   3554\u001b[0m     sep\u001b[39m=\u001b[39;49msep,\n\u001b[0;32m   3555\u001b[0m     encoding\u001b[39m=\u001b[39;49mencoding,\n\u001b[0;32m   3556\u001b[0m     errors\u001b[39m=\u001b[39;49merrors,\n\u001b[0;32m   3557\u001b[0m     compression\u001b[39m=\u001b[39;49mcompression,\n\u001b[0;32m   3558\u001b[0m     quoting\u001b[39m=\u001b[39;49mquoting,\n\u001b[0;32m   3559\u001b[0m     columns\u001b[39m=\u001b[39;49mcolumns,\n\u001b[0;32m   3560\u001b[0m     index_label\u001b[39m=\u001b[39;49mindex_label,\n\u001b[0;32m   3561\u001b[0m     mode\u001b[39m=\u001b[39;49mmode,\n\u001b[0;32m   3562\u001b[0m     chunksize\u001b[39m=\u001b[39;49mchunksize,\n\u001b[0;32m   3563\u001b[0m     quotechar\u001b[39m=\u001b[39;49mquotechar,\n\u001b[0;32m   3564\u001b[0m     date_format\u001b[39m=\u001b[39;49mdate_format,\n\u001b[0;32m   3565\u001b[0m     doublequote\u001b[39m=\u001b[39;49mdoublequote,\n\u001b[0;32m   3566\u001b[0m     escapechar\u001b[39m=\u001b[39;49mescapechar,\n\u001b[0;32m   3567\u001b[0m     storage_options\u001b[39m=\u001b[39;49mstorage_options,\n\u001b[0;32m   3568\u001b[0m )\n",
      "File \u001b[1;32mc:\\Users\\Max\\anaconda3\\envs\\soiltwin\\lib\\site-packages\\pandas\\io\\formats\\format.py:1180\u001b[0m, in \u001b[0;36mDataFrameRenderer.to_csv\u001b[1;34m(self, path_or_buf, encoding, sep, columns, index_label, mode, compression, quoting, quotechar, line_terminator, chunksize, date_format, doublequote, escapechar, errors, storage_options)\u001b[0m\n\u001b[0;32m   1159\u001b[0m     created_buffer \u001b[39m=\u001b[39m \u001b[39mFalse\u001b[39;00m\n\u001b[0;32m   1161\u001b[0m csv_formatter \u001b[39m=\u001b[39m CSVFormatter(\n\u001b[0;32m   1162\u001b[0m     path_or_buf\u001b[39m=\u001b[39mpath_or_buf,\n\u001b[0;32m   1163\u001b[0m     line_terminator\u001b[39m=\u001b[39mline_terminator,\n\u001b[1;32m   (...)\u001b[0m\n\u001b[0;32m   1178\u001b[0m     formatter\u001b[39m=\u001b[39m\u001b[39mself\u001b[39m\u001b[39m.\u001b[39mfmt,\n\u001b[0;32m   1179\u001b[0m )\n\u001b[1;32m-> 1180\u001b[0m csv_formatter\u001b[39m.\u001b[39;49msave()\n\u001b[0;32m   1182\u001b[0m \u001b[39mif\u001b[39;00m created_buffer:\n\u001b[0;32m   1183\u001b[0m     \u001b[39massert\u001b[39;00m \u001b[39misinstance\u001b[39m(path_or_buf, StringIO)\n",
      "File \u001b[1;32mc:\\Users\\Max\\anaconda3\\envs\\soiltwin\\lib\\site-packages\\pandas\\io\\formats\\csvs.py:241\u001b[0m, in \u001b[0;36mCSVFormatter.save\u001b[1;34m(self)\u001b[0m\n\u001b[0;32m    237\u001b[0m \u001b[39m\"\"\"\u001b[39;00m\n\u001b[0;32m    238\u001b[0m \u001b[39mCreate the writer & save.\u001b[39;00m\n\u001b[0;32m    239\u001b[0m \u001b[39m\"\"\"\u001b[39;00m\n\u001b[0;32m    240\u001b[0m \u001b[39m# apply compression and byte/text conversion\u001b[39;00m\n\u001b[1;32m--> 241\u001b[0m \u001b[39mwith\u001b[39;00m get_handle(\n\u001b[0;32m    242\u001b[0m     \u001b[39mself\u001b[39;49m\u001b[39m.\u001b[39;49mfilepath_or_buffer,\n\u001b[0;32m    243\u001b[0m     \u001b[39mself\u001b[39;49m\u001b[39m.\u001b[39;49mmode,\n\u001b[0;32m    244\u001b[0m     encoding\u001b[39m=\u001b[39;49m\u001b[39mself\u001b[39;49m\u001b[39m.\u001b[39;49mencoding,\n\u001b[0;32m    245\u001b[0m     errors\u001b[39m=\u001b[39;49m\u001b[39mself\u001b[39;49m\u001b[39m.\u001b[39;49merrors,\n\u001b[0;32m    246\u001b[0m     compression\u001b[39m=\u001b[39;49m\u001b[39mself\u001b[39;49m\u001b[39m.\u001b[39;49mcompression,\n\u001b[0;32m    247\u001b[0m     storage_options\u001b[39m=\u001b[39;49m\u001b[39mself\u001b[39;49m\u001b[39m.\u001b[39;49mstorage_options,\n\u001b[0;32m    248\u001b[0m ) \u001b[39mas\u001b[39;00m handles:\n\u001b[0;32m    249\u001b[0m \n\u001b[0;32m    250\u001b[0m     \u001b[39m# Note: self.encoding is irrelevant here\u001b[39;00m\n\u001b[0;32m    251\u001b[0m     \u001b[39mself\u001b[39m\u001b[39m.\u001b[39mwriter \u001b[39m=\u001b[39m csvlib\u001b[39m.\u001b[39mwriter(\n\u001b[0;32m    252\u001b[0m         handles\u001b[39m.\u001b[39mhandle,\n\u001b[0;32m    253\u001b[0m         lineterminator\u001b[39m=\u001b[39m\u001b[39mself\u001b[39m\u001b[39m.\u001b[39mline_terminator,\n\u001b[1;32m   (...)\u001b[0m\n\u001b[0;32m    258\u001b[0m         quotechar\u001b[39m=\u001b[39m\u001b[39mself\u001b[39m\u001b[39m.\u001b[39mquotechar,\n\u001b[0;32m    259\u001b[0m     )\n\u001b[0;32m    261\u001b[0m     \u001b[39mself\u001b[39m\u001b[39m.\u001b[39m_save()\n",
      "File \u001b[1;32mc:\\Users\\Max\\anaconda3\\envs\\soiltwin\\lib\\site-packages\\pandas\\io\\common.py:697\u001b[0m, in \u001b[0;36mget_handle\u001b[1;34m(path_or_buf, mode, encoding, compression, memory_map, is_text, errors, storage_options)\u001b[0m\n\u001b[0;32m    695\u001b[0m \u001b[39m# Only for write methods\u001b[39;00m\n\u001b[0;32m    696\u001b[0m \u001b[39mif\u001b[39;00m \u001b[39m\"\u001b[39m\u001b[39mr\u001b[39m\u001b[39m\"\u001b[39m \u001b[39mnot\u001b[39;00m \u001b[39min\u001b[39;00m mode \u001b[39mand\u001b[39;00m is_path:\n\u001b[1;32m--> 697\u001b[0m     check_parent_directory(\u001b[39mstr\u001b[39;49m(handle))\n\u001b[0;32m    699\u001b[0m \u001b[39mif\u001b[39;00m compression:\n\u001b[0;32m    700\u001b[0m     \u001b[39mif\u001b[39;00m compression \u001b[39m!=\u001b[39m \u001b[39m\"\u001b[39m\u001b[39mzstd\u001b[39m\u001b[39m\"\u001b[39m:\n\u001b[0;32m    701\u001b[0m         \u001b[39m# compression libraries do not like an explicit text-mode\u001b[39;00m\n",
      "File \u001b[1;32mc:\\Users\\Max\\anaconda3\\envs\\soiltwin\\lib\\site-packages\\pandas\\io\\common.py:571\u001b[0m, in \u001b[0;36mcheck_parent_directory\u001b[1;34m(path)\u001b[0m\n\u001b[0;32m    569\u001b[0m parent \u001b[39m=\u001b[39m Path(path)\u001b[39m.\u001b[39mparent\n\u001b[0;32m    570\u001b[0m \u001b[39mif\u001b[39;00m \u001b[39mnot\u001b[39;00m parent\u001b[39m.\u001b[39mis_dir():\n\u001b[1;32m--> 571\u001b[0m     \u001b[39mraise\u001b[39;00m \u001b[39mOSError\u001b[39;00m(\u001b[39mrf\u001b[39m\u001b[39m\"\u001b[39m\u001b[39mCannot save file into a non-existent directory: \u001b[39m\u001b[39m'\u001b[39m\u001b[39m{\u001b[39;00mparent\u001b[39m}\u001b[39;00m\u001b[39m'\u001b[39m\u001b[39m\"\u001b[39m)\n",
      "\u001b[1;31mOSError\u001b[0m: Cannot save file into a non-existent directory: '..\\..\\data\\nw2\\model_hyperopt\\removed_harmonics'"
     ]
    }
   ],
   "source": [
    "seed = 2\n",
    "def objective_xgb(space):\n",
    "    model = Pipeline(\n",
    "            steps=[\n",
    "                ('preprocessing_angles', AngleTransformer(angles = ['winddirection', 'yaw'])),\n",
    "                ('regressor', XGBRegressor(\n",
    "                                 n_estimators = space['n_estimators'],\n",
    "                                 max_depth = space['max_depth'],\n",
    "                                 learning_rate = space['learning_rate'],\n",
    "                                 colsample_bytree = space['colsample_bytree'],\n",
    "                                 )\n",
    "                )\n",
    "            ]\n",
    "        )\n",
    "    score = cross_val_score(model,  X_train, y_train, cv=5, scoring='r2').mean()\n",
    "    # We aim to maximize r2 score, therefore we return it as a negative value\n",
    "    return {'loss': -score, 'status': STATUS_OK }\n",
    "def optimize_xgb(trial):\n",
    "    space = {\n",
    "        'n_estimators':hp.uniformint('n_estimators',10,500),\n",
    "        'max_depth':hp.uniformint('max_depth',3,20),\n",
    "        'learning_rate':hp.uniform('learning_rate',0.01,0.5),\n",
    "        'colsample_bytree': hp.uniform('colsample_bytree',0.1, 1),\n",
    "    }\n",
    "    best = \\\n",
    "        fmin(\n",
    "            fn = objective_xgb,\n",
    "            space = space,\n",
    "            algo = tpe.suggest,\n",
    "            trials = trial,\n",
    "            max_evals = 200,\n",
    "            rstate = np.random.default_rng(seed)\n",
    "            )\n",
    "    return best\n",
    "\n",
    "XGB_optimizations = {}\n",
    "for mode in prediction_params.columns:\n",
    "    y = prediction_params[mode].dropna()\n",
    "    X = inputs.loc[y.index].dropna()\n",
    "    y = y.loc[X.index]\n",
    "    X_train, X_test, y_train, y_test = train_test_split(X, y, test_size=0.2, random_state=seed)\n",
    "    X_train_val, X_val, y_train_val, y_val = train_test_split(X_train, y_train, test_size=0.2, random_state=seed)\n",
    "    trial2=Trials()\n",
    "    XGB_optimizations[mode]=optimize_xgb(trial2)\n",
    "    print(XGB_optimizations[mode])\n",
    "pd.DataFrame(XGB_optimizations).to_csv(hyperopt_folder + \"xgb_optimizations.csv\")"
   ]
  },
  {
   "cell_type": "code",
   "execution_count": 12,
   "metadata": {},
   "outputs": [],
   "source": [
    "pd.DataFrame(XGB_optimizations).to_csv(hyperopt_folder + \"xgb_optimizations.csv\")"
   ]
  },
  {
   "cell_type": "code",
   "execution_count": 13,
   "metadata": {},
   "outputs": [
    {
     "name": "stdout",
     "output_type": "stream",
     "text": [
      "100%|██████████| 100/100 [2:58:46<00:00, 107.26s/trial, best loss: -0.28038408152133554] \n",
      "{'max_depth': 10.0, 'min_samples_leaf': 5.0, 'min_samples_split': 6.0, 'n_estimators': 206.0}\n",
      "100%|██████████| 100/100 [1:08:42<00:00, 41.23s/trial, best loss: -0.6694982186070642]\n",
      "{'max_depth': 12.0, 'min_samples_leaf': 1.0, 'min_samples_split': 4.0, 'n_estimators': 194.0}\n",
      "100%|██████████| 100/100 [3:11:23<00:00, 114.84s/trial, best loss: -0.37142684740623855] \n",
      "{'max_depth': 16.0, 'min_samples_leaf': 5.0, 'min_samples_split': 2.0, 'n_estimators': 464.0}\n",
      "100%|██████████| 100/100 [30:19<00:00, 18.19s/trial, best loss: -0.5549033275267146]\n",
      "{'max_depth': 8.0, 'min_samples_leaf': 3.0, 'min_samples_split': 2.0, 'n_estimators': 139.0}\n"
     ]
    }
   ],
   "source": [
    "from hyperopt import hp,fmin,tpe,STATUS_OK,Trials\n",
    "from sklearn.ensemble import RandomForestRegressor\n",
    "from sklearn.model_selection import cross_val_score\n",
    "seed = 2\n",
    "\n",
    "def objective_rf(space):\n",
    "    model = Pipeline(\n",
    "            steps=[\n",
    "                ('preprocessing_angles', AngleTransformer(angles = ['winddirection', 'yaw'])),\n",
    "                ('regressor', RandomForestRegressor(\n",
    "                                 n_estimators = space['n_estimators'],\n",
    "                                 max_depth = space['max_depth'],\n",
    "                                 min_samples_leaf = space['min_samples_leaf'],\n",
    "                                 min_samples_split = space['min_samples_split']\n",
    "                                 )\n",
    "            )\n",
    "        ]\n",
    "    )\n",
    "    score = cross_val_score(model,  X_train, y_train, cv=5, scoring='r2').mean()\n",
    "    # We aim to maximize r2 score, therefore we return it as a negative value\n",
    "    return {'loss': -score, 'status': STATUS_OK }\n",
    "\n",
    "def optimize_rf(trial):\n",
    "    space = {\n",
    "        'n_estimators': hp.uniformint('n_estimators',10,500),\n",
    "        'max_depth': hp.uniformint('max_depth',3,20),\n",
    "        'min_samples_leaf': hp.uniformint('min_samples_leaf',1,5),\n",
    "        'min_samples_split': hp.uniformint('min_samples_split',2,6)\n",
    "    }\n",
    "    best = \\\n",
    "        fmin(\n",
    "            fn = objective_rf,\n",
    "            space = space,\n",
    "            algo = tpe.suggest,\n",
    "            trials = trial,\n",
    "            max_evals = 100,\n",
    "            rstate = np.random.default_rng(seed)\n",
    "            )\n",
    "    return best\n",
    "\n",
    "RF_optimizations = {}\n",
    "for mode in prediction_params.columns:\n",
    "    y = prediction_params[mode].dropna()\n",
    "    X = inputs.loc[y.index].dropna()\n",
    "    y = y.loc[X.index]\n",
    "    X_train, X_test, y_train, y_test = train_test_split(X, y, test_size=0.2, random_state=seed)\n",
    "    trial=Trials()\n",
    "    RF_optimizations[mode]=optimize_rf(trial)\n",
    "    print(RF_optimizations[mode])\n",
    "pd.DataFrame(RF_optimizations).to_csv(hyperopt_folder + \"rf_optimizations.csv\")"
   ]
  },
  {
   "cell_type": "code",
   "execution_count": null,
   "metadata": {},
   "outputs": [],
   "source": []
  }
 ],
 "metadata": {
  "kernelspec": {
   "display_name": "soiltwin",
   "language": "python",
   "name": "python3"
  },
  "language_info": {
   "codemirror_mode": {
    "name": "ipython",
    "version": 3
   },
   "file_extension": ".py",
   "mimetype": "text/x-python",
   "name": "python",
   "nbconvert_exporter": "python",
   "pygments_lexer": "ipython3",
   "version": "3.9.12"
  },
  "orig_nbformat": 4,
  "vscode": {
   "interpreter": {
    "hash": "59700db8913d1834820c267fdc13540c1f9ab675c387b03ed985ffb4bb0979f0"
   }
  }
 },
 "nbformat": 4,
 "nbformat_minor": 2
}
