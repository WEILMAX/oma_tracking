{
 "cells": [
  {
   "cell_type": "code",
   "execution_count": null,
   "metadata": {},
   "outputs": [],
   "source": [
    "%load_ext autoreload\n",
    "%autoreload 2"
   ]
  },
  {
   "cell_type": "code",
   "execution_count": null,
   "metadata": {},
   "outputs": [],
   "source": [
    "import shap\n",
    "import datetime\n",
    "import numpy as np\n",
    "import pandas as pd\n",
    "\n",
    "from oma_tracking.data.utils import get_rated_data, get_parked_data, read_simulations_csv_files"
   ]
  },
  {
   "cell_type": "code",
   "execution_count": null,
   "metadata": {},
   "outputs": [],
   "source": [
    "start =  datetime.datetime(2022,11,1,tzinfo=utc)\n",
    "stop  = datetime.datetime(2023,3,1,tzinfo=utc)\n",
    "location = 'nw2d01'\n",
    "name_location = 'NW2_D01'\n",
    "\n",
    "# Data Paths\n",
    "data_path = \"../../data/nw2/raw/nw2d01_\" + start.strftime(\"%Y%m%d\") + \"_\" + stop.strftime(\"%Y%m%d\") + \".parquet\"\n",
    "mvbc_path = \"../../data/nw2/mvbc_data.parquet\"\n",
    "tracked_frequencies_path = \"../../data/nw2/tracked_modes/\" + location + \".parquet\"\n",
    "simulations_data_path = \"../../data/nw2/simulations/\" + location + \"/\"\n",
    "simulations_data_path\n",
    "\n",
    "\n",
    "# Get all the data\n",
    "data = pd.read_parquet(data_path)\n",
    "mvbc_data = pd.read_parquet(mvbc_path)\n",
    "tracked_frequencies = pd.read_parquet(tracked_frequencies_path)\n",
    "simulation_data = read_simulations_csv_files(simulations_data_path + \"eigen_frequencies/\")\n",
    "simulation_shifts = read_simulations_csv_files(simulations_data_path + \"mean_shifts/\")"
   ]
  },
  {
   "cell_type": "code",
   "execution_count": null,
   "metadata": {},
   "outputs": [],
   "source": [
    "weather_params = \\\n",
    "    [\n",
    "        'Wave_height', \n",
    "        'Sea_water_temperature', \n",
    "        'Tide_TAW', \n",
    "        'Air_pressure', \n",
    "        'Air_temperature', \n",
    "        #'Relative_humidity' # TOO MANY NANs\n",
    "    ]\n",
    "weather_inputs = mvbc_data[weather_params]\n",
    "\n",
    "scada_params = \\\n",
    "    [\n",
    "        'mean_NW2_D01_rpm', \n",
    "        'mean_NW2_D01_yaw', \n",
    "        'mean_NW2_D01_pitch', \n",
    "        'mean_NW2_D01_power', \n",
    "        #'std_NW2_D01_towerxacc',  # TOO MANY NANs\n",
    "        #'std_NW2_D01_toweryacc', # TOO MANY NANs\n",
    "        #'mean_NW2_D01_towerxacc', # TOO MANY NANs\n",
    "        #'mean_NW2_D01_toweryacc', # TOO MANY NANs\n",
    "        'mean_NW2_D01_windspeed',\n",
    "        'mean_NW2_D01_winddirection',\n",
    "    ]\n",
    "scada_inputs = data[scada_params]\n",
    "\n",
    "inputs = \\\n",
    "    pd.concat(\n",
    "        [\n",
    "            weather_inputs,\n",
    "            scada_inputs\n",
    "        ],\n",
    "        axis=1\n",
    "    )\n",
    "\n",
    "prediction_params = \\\n",
    "    tracked_frequencies "
   ]
  },
  {
   "cell_type": "code",
   "execution_count": null,
   "metadata": {},
   "outputs": [],
   "source": [
    "import mlflow\n",
    "models = {}\n",
    "for mode in tracked_frequencies.columns:\n",
    "    model_name = 'mpe_' + name_location + '_' + mode + '_normalization'\n",
    "    stage = 'Staging'\n",
    "    try:\n",
    "        models[mode] = \\\n",
    "            mlflow.pyfunc.load_model(\n",
    "                model_uri=f\"models:/{model_name}/{stage}\")\n",
    "    except:\n",
    "        print('no ' + stage + ' model ' + model_name)"
   ]
  },
  {
   "cell_type": "code",
   "execution_count": null,
   "metadata": {},
   "outputs": [],
   "source": [
    "explainers = {}\n",
    "shap_values = {}\n",
    "for mode in tracked_frequencies.columns:\n",
    "    model = models[mode]\n",
    "    explainers[mode] = shap.Explainer(model)\n",
    "    shap_values[mode] = explainers[mode](inputs)\n",
    "    shap.summary_plot(shap_values, input)"
   ]
  }
 ],
 "metadata": {
  "kernelspec": {
   "display_name": "soiltwin",
   "language": "python",
   "name": "python3"
  },
  "language_info": {
   "name": "python",
   "version": "3.9.12"
  },
  "orig_nbformat": 4
 },
 "nbformat": 4,
 "nbformat_minor": 2
}
